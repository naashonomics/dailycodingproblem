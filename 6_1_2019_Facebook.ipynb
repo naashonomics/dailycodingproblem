{
 "cells": [
  {
   "cell_type": "markdown",
   "metadata": {},
   "source": [
    "# Given the mapping a = 1, b = 2, ... z = 26, and an encoded message, count the number of ways it can be decoded.\n",
    "For example, the message '111' would give 3, since it could be decoded as 'aaa', 'ka', and 'ak'.\n",
    "\n",
    "You can assume that the messages are decodable. For example, '001' is not allowed.\n",
    "\n",
    "Solution Video: https://www.youtube.com/watch?v=qli-JCrSwuk\n",
    "\n",
    "\n"
   ]
  },
  {
   "cell_type": "markdown",
   "metadata": {},
   "source": [
    "Recurssion Explanantion \n",
    "\n",
    "'a'=>1\n",
    "\n",
    "'b'=>2\n",
    "\n",
    "..\n",
    "\n",
    "'z'=>26\n",
    "\n",
    "Reccurance Relation \n",
    "\n",
    "numofEncoding(\"12345\")=\"a\" + numofEncoding(\"2345\") or \"l\" + numofEncoding(\"345\")\n",
    "\n",
    "numofEncoding(\"27345\")=\"b\" + numofEncoding(\"7345\")\n",
    "\n",
    "Base Case:\n",
    "\n",
    "numofEncoding(\"01\")=>0\n",
    "\n",
    "\"\"=>\"\" numofEncoding(\"\") =>1\n",
    "\n",
    "c=>3 numofEncoding(3) =>1\n",
    "\n",
    "recurance relation \n",
    "\n",
    "// msg of length n\n",
    "\n",
    "numofEncoding(msg) = numofEncoding(msg[0:n-1]) + numofEncoding(msg[0:n-2] ) ( if msg[n-1][n-2] in [1..26])\n",
    "\n",
    "This problem is recursive and can be broken in sub-problems. We start from end of the given digit sequence. We initialize the total count of decodings as 0. We recur for two subproblems.\n",
    "\n",
    "1) If the last digit is non-zero, recur for remaining (n-1) digits and add the result to total count.\n",
    "\n",
    "2) If the last two digits form a valid character (or smaller than 27), recur for remaining (n-2) digits and add the result to total count.\n",
    "\n",
    "Following is the implementation of the above approach.\n",
    "\n",
    "Can we do it in O(n) algorithm "
   ]
  },
  {
   "cell_type": "code",
   "execution_count": 24,
   "metadata": {},
   "outputs": [],
   "source": [
    "#O(s^n)\n",
    "def helper(data,k):\n",
    "    if k==0:\n",
    "        return 1\n",
    "    s=len(data)-k\n",
    "    if data[s]=='0':\n",
    "        return 0\n",
    "    result=helper(data,k-1)\n",
    "    if k >= 2 and int(data[s:s+2])<=26:\n",
    "        result+=helper(data,k-2)\n",
    "    return result\n",
    "\n",
    "def num_ways(data):\n",
    "    return helper(data,len(data))"
   ]
  },
  {
   "cell_type": "code",
   "execution_count": 26,
   "metadata": {},
   "outputs": [
    {
     "name": "stdout",
     "output_type": "stream",
     "text": [
      "3\n"
     ]
    }
   ],
   "source": [
    "data=\"12345\"\n",
    "print(num_ways(data))"
   ]
  },
  {
   "cell_type": "code",
   "execution_count": 42,
   "metadata": {},
   "outputs": [],
   "source": [
    "#dynamic programing \n",
    "#TC \n",
    "#Idea create a list of n+1 to store intermediate results \n",
    "def helper_dp(data,k,memo):\n",
    "    if k==0:\n",
    "        return 1\n",
    "    s=len(data)-k\n",
    "    if data[s]=='0':\n",
    "        return 0\n",
    "    if memo[k] != None:\n",
    "        return memo[k]\n",
    "    result=helper_dp(data,k-1,memo)\n",
    "    if k >= 2 and int(data[s:s+2])<=26:\n",
    "        result+=helper_dp(data,k-2,memo)\n",
    "    memo[k]=result\n",
    "    return result\n",
    "\n",
    "def num_ways_dp(data):\n",
    "    memo=  [None] * (len(data)+1) #intalize to null\n",
    "    return helper_dp(data,len(data),memo)"
   ]
  },
  {
   "cell_type": "code",
   "execution_count": 43,
   "metadata": {},
   "outputs": [
    {
     "name": "stdout",
     "output_type": "stream",
     "text": [
      "3\n"
     ]
    }
   ],
   "source": [
    "data=\"12345\"\n",
    "print(num_ways_dp(data))"
   ]
  },
  {
   "cell_type": "code",
   "execution_count": null,
   "metadata": {},
   "outputs": [],
   "source": []
  }
 ],
 "metadata": {
  "kernelspec": {
   "display_name": "Anaconda 3",
   "language": "python",
   "name": "python3"
  },
  "language_info": {
   "codemirror_mode": {
    "name": "ipython",
    "version": 3
   },
   "file_extension": ".py",
   "mimetype": "text/x-python",
   "name": "python",
   "nbconvert_exporter": "python",
   "pygments_lexer": "ipython3",
   "version": "3.7.3"
  }
 },
 "nbformat": 4,
 "nbformat_minor": 2
}
