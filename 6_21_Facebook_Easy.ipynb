{
 "cells": [
  {
   "cell_type": "code",
   "execution_count": 3,
   "metadata": {},
   "outputs": [
    {
     "data": {
      "text/plain": [
       "'\\nGiven a string of round, curly, and square open and closing brackets, return whether the brackets are balanced (well-formed).\\nFor example, given the string \"([])[]({})\", you should return true.\\nGiven the string \"([)]\" or \"((()\", you should return false.\\n'"
      ]
     },
     "execution_count": 3,
     "metadata": {},
     "output_type": "execute_result"
    }
   ],
   "source": [
    "\"\"\"\n",
    "Given a string of round, curly, and square open and closing brackets, return whether the brackets are balanced (well-formed).\n",
    "For example, given the string \"([])[]({})\", you should return true.\n",
    "Given the string \"([)]\" or \"((()\", you should return false.\n",
    "\"\"\""
   ]
  },
  {
   "cell_type": "code",
   "execution_count": 5,
   "metadata": {},
   "outputs": [],
   "source": [
    "def isValid(s):\n",
    "        \"\"\"\n",
    "        :type s: str\n",
    "        :rtype: bool\n",
    "        \"\"\"\n",
    "        stack = []\n",
    "        # Hash map for keeping track of mappings.\n",
    "        mapping = {\")\": \"(\", \"}\": \"{\", \"]\": \"[\"}\n",
    "        # For every bracket in the expression.\n",
    "        for char in s:\n",
    "            # If the character is an closing bracket\n",
    "            if char in mapping:\n",
    "                # Pop the topmost element from the stack, \n",
    "                top_element = stack.pop() if stack else '#'\n",
    "                # The mapping for the opening bracket in our hash and the top element of the stack don't match return False\n",
    "                if mapping[char] != top_element:\n",
    "                    return False\n",
    "            else:\n",
    "                # simply push it onto the stack.\n",
    "                stack.append(char)\n",
    "\n",
    "        # In the end, if the stack is empty, then we have a valid expression.\n",
    "        return not stack"
   ]
  },
  {
   "cell_type": "code",
   "execution_count": 7,
   "metadata": {},
   "outputs": [
    {
     "data": {
      "text/plain": [
       "True"
      ]
     },
     "execution_count": 7,
     "metadata": {},
     "output_type": "execute_result"
    }
   ],
   "source": [
    "#Time complexity : O(n)\n",
    "#Space Complexity  O(n) \n",
    "isValid(\"()[]{}\")"
   ]
  },
  {
   "cell_type": "code",
   "execution_count": 8,
   "metadata": {},
   "outputs": [
    {
     "data": {
      "text/plain": [
       "False"
      ]
     },
     "execution_count": 8,
     "metadata": {},
     "output_type": "execute_result"
    }
   ],
   "source": [
    "isValid(\"(}\")"
   ]
  },
  {
   "cell_type": "code",
   "execution_count": 9,
   "metadata": {},
   "outputs": [
    {
     "data": {
      "text/plain": [
       "True"
      ]
     },
     "execution_count": 9,
     "metadata": {},
     "output_type": "execute_result"
    }
   ],
   "source": [
    "isValid(\"()\")"
   ]
  },
  {
   "cell_type": "code",
   "execution_count": null,
   "metadata": {},
   "outputs": [],
   "source": []
  }
 ],
 "metadata": {
  "kernelspec": {
   "display_name": "Anaconda 3",
   "language": "python",
   "name": "python3"
  },
  "language_info": {
   "codemirror_mode": {
    "name": "ipython",
    "version": 3
   },
   "file_extension": ".py",
   "mimetype": "text/x-python",
   "name": "python",
   "nbconvert_exporter": "python",
   "pygments_lexer": "ipython3",
   "version": "3.7.3"
  }
 },
 "nbformat": 4,
 "nbformat_minor": 2
}
