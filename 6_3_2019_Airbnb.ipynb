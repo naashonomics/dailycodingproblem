{
 "cells": [
  {
   "cell_type": "markdown",
   "metadata": {},
   "source": [
    "# Given a list of integers,  write a function that returns the largest sum of non-adjacent numbers. Numbers can be 0 or negative.\n",
    "\n",
    "For example, [2, 4, 6, 2, 5] should return 13, \n",
    "\n",
    "since we pick 2, 6, and 5. [5, 1, 1, 5] should return 10, since we pick 5 and 5.\n",
    "\n",
    "Follow-up: Can you do this in O(N) time and constant space?\n"
   ]
  },
  {
   "cell_type": "markdown",
   "metadata": {},
   "source": [
    "Other References:\n",
    "    \n",
    "Geeks for Geeks: https://www.geeksforgeeks.org/maximum-sum-such-that-no-two-elements-are-adjacent/"
   ]
  },
  {
   "cell_type": "markdown",
   "metadata": {},
   "source": [
    "Algorithm:\n",
    "Loop for all elements in arr[] \n",
    "\n",
    "maintain two sums incl and excl \n",
    "\n",
    "where incl = Max sum including the previous element and excl = Max sum excluding the previous element.\n",
    "\n",
    "Max sum excluding the current element will be max(incl, excl)  \n",
    "max sum including the current element will be excl + current element \n",
    "\n",
    "(Note that only excl is considered because elements cannot be adjacent).\n",
    "\n",
    "At the end of the loop return max of incl and excl.\n",
    "\n",
    "arr[] = {5,  5, 10, 40, 50, 35}\n",
    "\n",
    "  incl = 5 \n",
    "    \n",
    "  excl = 0\n",
    "\n",
    "  For i = 1 (current element is 5)\n",
    "    \n",
    "  incl =  (excl + arr[i])  = 5\n",
    "\n",
    "  excl =  max(5, 0) = 5\n",
    "\n",
    "  For i = 2 (current element is 10)\n",
    "\n",
    "  incl =  (excl + arr[i]) = 15\n",
    " \n",
    "  excl =  max(5, 5) = 5\n",
    "\n",
    "  For i = 3 (current element is 40)\n",
    "  \n",
    "  incl = (excl + arr[i]) = 45\n",
    "  \n",
    "  excl = max(5, 15) = 15\n",
    "\n",
    "  For i = 4 (current element is 50)\n",
    "  \n",
    "  incl = (excl + arr[i]) = 65\n",
    "  \n",
    "  excl =  max(45, 15) = 45\n",
    "\n",
    "  For i = 5 (current element is 35)\n",
    "  \n",
    "  incl =  (excl + arr[i]) = 80\n",
    "  \n",
    "  excl =  max(65, 45) = 65\n",
    "\n",
    "And 35 is the last element. So, answer is max(incl, excl) =  80"
   ]
  },
  {
   "cell_type": "code",
   "execution_count": 2,
   "metadata": {},
   "outputs": [
    {
     "name": "stdout",
     "output_type": "stream",
     "text": [
      "110\n"
     ]
    }
   ],
   "source": [
    "# Function to return max sum such that \n",
    "# no two elements are adjacent \n",
    "def find_max_sum(arr): \n",
    "    incl = 0\n",
    "    excl = 0\n",
    "\n",
    "    for i in arr: \n",
    "\n",
    "        # Current max excluding i (No ternary in # Python) \n",
    "        new_excl = excl if excl>incl else incl \n",
    "\n",
    "        # Current max including i \n",
    "        incl = excl + i \n",
    "        excl = new_excl \n",
    "    # return max of incl and excl \n",
    "    return (excl if excl>incl else incl) \n",
    "\n",
    "# Driver program to test above function \n",
    "arr = [5, 5, 10, 100, 10, 5] \n",
    "print(find_max_sum(arr)) \n",
    "\n",
    "#TC: O(N)"
   ]
  },
  {
   "cell_type": "code",
   "execution_count": null,
   "metadata": {},
   "outputs": [],
   "source": []
  }
 ],
 "metadata": {
  "kernelspec": {
   "display_name": "Anaconda 3",
   "language": "python",
   "name": "python3"
  },
  "language_info": {
   "codemirror_mode": {
    "name": "ipython",
    "version": 3
   },
   "file_extension": ".py",
   "mimetype": "text/x-python",
   "name": "python",
   "nbconvert_exporter": "python",
   "pygments_lexer": "ipython3",
   "version": "3.7.3"
  }
 },
 "nbformat": 4,
 "nbformat_minor": 2
}
